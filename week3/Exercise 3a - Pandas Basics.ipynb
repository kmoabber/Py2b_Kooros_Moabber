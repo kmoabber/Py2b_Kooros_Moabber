{
 "cells": [
  {
   "cell_type": "markdown",
   "id": "7e6f4f9a",
   "metadata": {},
   "source": [
    "<div style=\"background: black; padding: 10px 250px\"><img src=\"https://www.veldikompetens.se/wp-content/themes/consid/static/icons/VeldiKompetens_Logo_Web_Negative.svg\" title=\"Veldi kompetens\" /></div>"
   ]
  },
  {
   "cell_type": "markdown",
   "id": "2c93bffd",
   "metadata": {},
   "source": [
    "<hr><h1><center>Exercise 3a - Pandas Basics </center></h1>"
   ]
  },
  {
   "cell_type": "markdown",
   "id": "12fa6de2",
   "metadata": {},
   "source": [
    "<h3>Instructions </h3>"
   ]
  },
  {
   "cell_type": "markdown",
   "id": "add1cd83",
   "metadata": {},
   "source": [
    "<p>In this exercise you will learn about the basics of Pandas; Loading a dataset, rows, columns, showing header, printing a set of lines and for example printing a row or a column. The dataset we will be using in this exercise and forwards is about different types of chocolates and how professionals have rated them. Lets get to know the dataset! \n",
    "\n",
    "If you want to read some more on the dataset you can find information here https://www.kaggle.com/rtatman/chocolate-bar-ratings</p>"
   ]
  },
  {
   "cell_type": "markdown",
   "id": "32acb796",
   "metadata": {},
   "source": [
    "<h3> 1. Setup </h3>"
   ]
  },
  {
   "cell_type": "markdown",
   "id": "b2b95b4a",
   "metadata": {},
   "source": [
    "Neccesary libraries:"
   ]
  },
  {
   "cell_type": "code",
   "execution_count": null,
   "id": "bc3b14d9",
   "metadata": {},
   "outputs": [],
   "source": [
    "import numpy as np\n",
    "import pandas as pd"
   ]
  },
  {
   "cell_type": "markdown",
   "id": "552ffa3f",
   "metadata": {},
   "source": [
    "<h3> 2. Pandas Basics</h3>\n",
    "<h4> 2.1 Loading the dataset </h4>\n",
    "<p> Note: it is a common practice to name the variable df which stands for Data Frame. Since you will be using this variable A LOT it is useful to have a concise name just as we do with numpy and pandas. Lets take a look!  </p>\n",
    "<p>IMPORTANT: You need to download the dataset first and put it into the same folder as the current notebook you are working in to run the code below. Dataset can be found on itslearning </p>"
   ]
  },
  {
   "cell_type": "code",
   "execution_count": null,
   "id": "897de0f6",
   "metadata": {
    "scrolled": true
   },
   "outputs": [],
   "source": [
    "df = pd.read_csv(\"flavors_of_cacao.csv\", na_values = [\" \"])\n",
    "df\n"
   ]
  },
  {
   "cell_type": "markdown",
   "id": "cf2d8dc0",
   "metadata": {},
   "source": [
    "Looks nice right? Pandas visualizes the csv file and gives  you a ton of information just from reading the csv file. Truly an amazing library."
   ]
  },
  {
   "cell_type": "markdown",
   "id": "20b51304",
   "metadata": {},
   "source": [
    "<h4>2.2 Some useful commands </h4>"
   ]
  },
  {
   "cell_type": "code",
   "execution_count": null,
   "id": "3bf5ca0f",
   "metadata": {},
   "outputs": [],
   "source": [
    "print(f\"The type is: {type(df)} \\n\")\n",
    "print(f\"The datatypes for each column: \\n {df.dtypes}\")"
   ]
  },
  {
   "cell_type": "markdown",
   "id": "f239f850",
   "metadata": {},
   "source": [
    "<p>Before we proceed ensure that you have examined the dataset above and have a feel for what type of data value should be present in each column. Now lets move onto learning some useful commands! </p>"
   ]
  },
  {
   "cell_type": "code",
   "execution_count": null,
   "id": "27abb597",
   "metadata": {},
   "outputs": [],
   "source": [
    "# Note; Might look really ugly but the notebook cant put everything on one line! The \\ is a separator to signify same print\n",
    "# But new line\n",
    "print(\"From the bottom: \",df.tail(1), \"\\n\")\n",
    "print(\"From the top: \", df.head(1), \"\\n\")\n",
    "\n",
    "# Can also do as below to make use of Pandas awesome integration with jupyter and get a real table!\n",
    "df.head(1)"
   ]
  },
  {
   "cell_type": "markdown",
   "id": "40d3a51d",
   "metadata": {},
   "source": [
    "Something that wont be showcased here but is worth pointing out is that pandas also has a functionality called df.to_numpy() which makes ur entire dataframe into a numpy array. Its quick and cheap in terms of computational cost for inputs of the same type and is ideally used for usage on say all columns sharing type. Anyways, onwards we go!\n",
    "\n",
    "We just saw the head (i.e the top) and the tail (i.e the bottom) of the dataframe. To access all values (indexes or rows) and columns there are also commands for that purpose as can be seen below"
   ]
  },
  {
   "cell_type": "code",
   "execution_count": null,
   "id": "4d574a2d",
   "metadata": {},
   "outputs": [],
   "source": [
    "print(df.columns)\n",
    "print(df.index)"
   ]
  },
  {
   "cell_type": "markdown",
   "id": "8b1d1de1",
   "metadata": {},
   "source": [
    "Next up is the most descriptive functionality of all: describe"
   ]
  },
  {
   "cell_type": "code",
   "execution_count": null,
   "id": "0701b6c6",
   "metadata": {},
   "outputs": [],
   "source": [
    "# Does not include every column as only descriptive summaries of descriptive values can be showcased\n",
    "print(df.describe())"
   ]
  },
  {
   "cell_type": "markdown",
   "id": "7abcde30",
   "metadata": {},
   "source": [
    "There are several ways of sorting your data, either by index or by column values. One of the more common ones is df.sort_values(). Note we use copy here just as we do with numpy!"
   ]
  },
  {
   "cell_type": "code",
   "execution_count": null,
   "id": "5242ef3d",
   "metadata": {},
   "outputs": [],
   "source": [
    "sorted_df = df.copy().sort_values((\"REF\"))\n",
    "sorted_df"
   ]
  },
  {
   "cell_type": "markdown",
   "id": "4b5768e1",
   "metadata": {},
   "source": [
    "<h4>2.3 Getting values </h4>"
   ]
  },
  {
   "cell_type": "code",
   "execution_count": null,
   "id": "dfc8a37a",
   "metadata": {},
   "outputs": [],
   "source": [
    "# Returns the values from specified column\n",
    "df[\"REF\"]"
   ]
  },
  {
   "cell_type": "code",
   "execution_count": null,
   "id": "6f26691e",
   "metadata": {},
   "outputs": [],
   "source": [
    "# Each row from 0 to 1\n",
    "df[0:1]"
   ]
  },
  {
   "cell_type": "markdown",
   "id": "0a86c7d8",
   "metadata": {},
   "source": [
    "Two other common ways of accessing data is by usage of loc and iloc. In pandas loc is used to get rows and/or columns with particular label, whilst iloc gets them via integer locations or index"
   ]
  },
  {
   "cell_type": "code",
   "execution_count": null,
   "id": "623e4afc",
   "metadata": {},
   "outputs": [],
   "source": [
    "# Get a specific row by the INDEX it is at (Note when we loaded the data pandas generated indexes for each instance) \n",
    "sorted_df.iloc[3]"
   ]
  },
  {
   "cell_type": "code",
   "execution_count": null,
   "id": "0aea74d0",
   "metadata": {},
   "outputs": [],
   "source": [
    "# Get a specific row from the label (this means that originally this object was given index 3 as can be seen by name)\n",
    "sorted_df.loc[3]"
   ]
  },
  {
   "cell_type": "markdown",
   "id": "b45a32b7",
   "metadata": {},
   "source": [
    "<h4>2.4 Time for some Q/A! </h4> "
   ]
  },
  {
   "cell_type": "code",
   "execution_count": null,
   "id": "3a46f6ea",
   "metadata": {
    "scrolled": true
   },
   "outputs": [],
   "source": [
    "#Q1: Output the first three rows in sorted_df and df respectively\n",
    "# here output first three of df\n"
   ]
  },
  {
   "cell_type": "markdown",
   "id": "8ad32fca",
   "metadata": {},
   "source": [
    "Expected output: \n",
    "<table border=\"1\" class=\"dataframe\">\n",
    "  <thead>\n",
    "    <tr style=\"text-align: right;\">\n",
    "      <th></th>\n",
    "      <th>Company&nbsp; (Maker-if known)</th>\n",
    "      <th>Specific Bean Origin or Bar Name</th>\n",
    "      <th>REF</th>\n",
    "      <th>Review Date</th>\n",
    "      <th>Cocoa Percent</th>\n",
    "      <th>Company Location</th>\n",
    "      <th>Rating</th>\n",
    "      <th>Bean Type</th>\n",
    "      <th>Broad Bean Origin</th>\n",
    "    </tr>\n",
    "  </thead>\n",
    "  <tbody>\n",
    "    <tr>\n",
    "      <th>0</th>\n",
    "      <td>A. Morin</td>\n",
    "      <td>Agua Grande</td>\n",
    "      <td>1876</td>\n",
    "      <td>2016</td>\n",
    "      <td>63%</td>\n",
    "      <td>France</td>\n",
    "      <td>3.75</td>\n",
    "      <td></td>\n",
    "      <td>Sao Tome</td>\n",
    "    </tr>\n",
    "    <tr>\n",
    "      <th>1</th>\n",
    "      <td>A. Morin</td>\n",
    "      <td>Kpime</td>\n",
    "      <td>1676</td>\n",
    "      <td>2015</td>\n",
    "      <td>70%</td>\n",
    "      <td>France</td>\n",
    "      <td>2.75</td>\n",
    "      <td></td>\n",
    "      <td>Togo</td>\n",
    "    </tr>\n",
    "    <tr>\n",
    "      <th>2</th>\n",
    "      <td>A. Morin</td>\n",
    "      <td>Atsane</td>\n",
    "      <td>1676</td>\n",
    "      <td>2015</td>\n",
    "      <td>70%</td>\n",
    "      <td>France</td>\n",
    "      <td>3.00</td>\n",
    "      <td></td>\n",
    "      <td>Togo</td>\n",
    "    </tr>\n",
    "  </tbody>\n",
    "</table>"
   ]
  },
  {
   "cell_type": "code",
   "execution_count": null,
   "id": "c78cfc68",
   "metadata": {},
   "outputs": [],
   "source": [
    "# here output first three of sorted_df\n",
    "\n"
   ]
  },
  {
   "cell_type": "markdown",
   "id": "0fb0f2eb",
   "metadata": {},
   "source": [
    "<table border=\"1\" class=\"dataframe\">\n",
    "  <thead>\n",
    "    <tr style=\"text-align: right;\">\n",
    "      <th></th>\n",
    "      <th>Company(Maker-if known)</th>\n",
    "      <th>Specific Bean Origin or Bar Name</th>\n",
    "      <th>REF</th>\n",
    "      <th>Review Date</th>\n",
    "      <th>Cocoa Percent</th>\n",
    "      <th>Company Location</th>\n",
    "      <th>Rating</th>\n",
    "      <th>Bean Type</th>\n",
    "      <th>Broad Bean Origin</th>\n",
    "    </tr>\n",
    "  </thead>\n",
    "  <tbody>\n",
    "    <tr>\n",
    "      <th>882</th>\n",
    "      <td>Jacque Torres</td>\n",
    "      <td>Trinatario Treasure</td>\n",
    "      <td>5.0</td>\n",
    "      <td>2006.0</td>\n",
    "      <td>71%</td>\n",
    "      <td>U.S.A.</td>\n",
    "      <td>2.00</td>\n",
    "      <td>Trinitario</td>\n",
    "      <td>Ghana</td>\n",
    "    </tr>\n",
    "    <tr>\n",
    "      <th>1330</th>\n",
    "      <td>Pralus</td>\n",
    "      <td>Trinidad</td>\n",
    "      <td>5.0</td>\n",
    "      <td>2006.0</td>\n",
    "      <td>75%</td>\n",
    "      <td>France</td>\n",
    "      <td>3.50</td>\n",
    "      <td>Trinitario</td>\n",
    "      <td>Trinidad</td>\n",
    "    </tr>\n",
    "    <tr>\n",
    "      <th>1331</th>\n",
    "      <td>Pralus</td>\n",
    "      <td>Madagascar, Nosy Be Isle.</td>\n",
    "      <td>5.0</td>\n",
    "      <td>2006.0</td>\n",
    "      <td>75%</td>\n",
    "      <td>France</td>\n",
    "      <td>3.75</td>\n",
    "      <td>Criollo</td>\n",
    "      <td>Madagascar</td>\n",
    "    </tr>\n",
    "  </tbody>\n",
    "</table>"
   ]
  },
  {
   "cell_type": "code",
   "execution_count": null,
   "id": "abecf194",
   "metadata": {},
   "outputs": [],
   "source": [
    "#Q2: Get the Broad Bean origin for the third item from the top from the sorted_df (i.e Ghana)\n",
    "# Hint: Use iloc to get a specific row from the top, syntax should be sorted_df.iloc[smthing][column name]\n"
   ]
  },
  {
   "cell_type": "markdown",
   "id": "b1f2b38a",
   "metadata": {},
   "source": [
    "Great job! We are now done with the basic introduction to Pandas! Lets proceed to the next exercise where we will learn to work some more with the dataset and reason a bit more on it"
   ]
  },
  {
   "cell_type": "code",
   "execution_count": null,
   "id": "457fe3bc",
   "metadata": {},
   "outputs": [],
   "source": []
  }
 ],
 "metadata": {
  "kernelspec": {
   "display_name": "Python 3",
   "language": "python",
   "name": "python3"
  },
  "language_info": {
   "codemirror_mode": {
    "name": "ipython",
    "version": 3
   },
   "file_extension": ".py",
   "mimetype": "text/x-python",
   "name": "python",
   "nbconvert_exporter": "python",
   "pygments_lexer": "ipython3",
   "version": "3.8.8"
  }
 },
 "nbformat": 4,
 "nbformat_minor": 5
}
