{
 "cells": [
  {
   "cell_type": "code",
   "execution_count": null,
   "id": "448cbbe4",
   "metadata": {},
   "outputs": [],
   "source": [
    "# Q1: Drop the below sample from the table it is enough to check that there is one less sample than the code above\n",
    "drop_index = 394\n",
    "df.drop(drop_index)"
   ]
  },
  {
   "cell_type": "code",
   "execution_count": null,
   "id": "fa9ac6ec",
   "metadata": {},
   "outputs": [],
   "source": [
    "#Q2 Output the amount of duplicates in the company location\n",
    "df.pivot_table(columns=[\"Company Location\"], aggfunc=\"size\")"
   ]
  }
 ],
 "metadata": {
  "kernelspec": {
   "display_name": "Python 3 (ipykernel)",
   "language": "python",
   "name": "python3"
  },
  "language_info": {
   "codemirror_mode": {
    "name": "ipython",
    "version": 3
   },
   "file_extension": ".py",
   "mimetype": "text/x-python",
   "name": "python",
   "nbconvert_exporter": "python",
   "pygments_lexer": "ipython3",
   "version": "3.9.12"
  }
 },
 "nbformat": 4,
 "nbformat_minor": 5
}
