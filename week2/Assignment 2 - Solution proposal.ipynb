{
 "cells": [
  {
   "cell_type": "code",
   "execution_count": null,
   "id": "b88ca595",
   "metadata": {
    "scrolled": true
   },
   "outputs": [],
   "source": [
    "\n",
    "def img_via_url():\n",
    "    # Returns a Numpy Array with RGB colors\n",
    "    URL = \"https://upload.wikimedia.org/wikipedia/commons/0/02/Sea_Otter_%28Enhydra_lutris%29_%2825169790524%29_crop.jpg\"\n",
    "    HEADER = {'User-Agent': 'Mozilla/5.0'}\n",
    "    \n",
    "    with urlopen(URL) as req:\n",
    "        arr = np.asarray(bytearray(req.read()), dtype=np.uint8) \n",
    "        BGR_img = cv2.imdecode(arr, -1) \n",
    "        \n",
    "    RGB_img = cv2.cvtColor(BGR_img, cv2.COLOR_BGR2RGB)\n",
    "        \n",
    "    return RGB_img\n"
   ]
  },
  {
   "cell_type": "code",
   "execution_count": 5,
   "id": "b902720e",
   "metadata": {
    "scrolled": false
   },
   "outputs": [],
   "source": [
    "def copy_and_process(img):\n",
    "    \"\"\"This function returns a resized img to 256x256 pixels, its height and its width\"\"\"\n",
    "    img_copy = img.copy()\n",
    "    resized_img = cv2.resize(img_copy, (256,256))\n",
    "    height = resized_img.shape[0]\n",
    "    width = resized_img.shape[1] \n",
    "    \n",
    "    return resized_img, height, width\n",
    "    \n"
   ]
  },
  {
   "cell_type": "code",
   "execution_count": null,
   "id": "adc04fe9",
   "metadata": {
    "scrolled": true
   },
   "outputs": [],
   "source": [
    "def set_pixel_values():\n",
    "    \"\"\"Arbitrary function coloring the bottom left side red and bottom right green\"\"\"\n",
    "    for row in range(width):\n",
    "        for column in range(height):\n",
    "            prev_val = resized_img[column][row]\n",
    "            \n",
    "            if column > height/2:\n",
    "                if row < width/2:\n",
    "                    resized_img[column][row] = [255, prev_val[1], prev_val[2]]\n",
    "                else: \n",
    "                    resized_img[column][row] = [prev_val[0], 255, prev_val[2]]\n",
    "            \n",
    "set_pixel_values()\n",
    "plt.imshow(resized_img)"
   ]
  },
  {
   "cell_type": "code",
   "execution_count": null,
   "id": "72308f5f",
   "metadata": {
    "scrolled": true
   },
   "outputs": [],
   "source": [
    "flattened_img = resized_img.reshape(-1, 1)\n",
    "\n",
    "print(flattened_img.shape)\n",
    "print(flattened_img)"
   ]
  }
 ],
 "metadata": {
  "kernelspec": {
   "display_name": "Python 3",
   "language": "python",
   "name": "python3"
  },
  "language_info": {
   "codemirror_mode": {
    "name": "ipython",
    "version": 3
   },
   "file_extension": ".py",
   "mimetype": "text/x-python",
   "name": "python",
   "nbconvert_exporter": "python",
   "pygments_lexer": "ipython3",
   "version": "3.8.8"
  }
 },
 "nbformat": 4,
 "nbformat_minor": 5
}
