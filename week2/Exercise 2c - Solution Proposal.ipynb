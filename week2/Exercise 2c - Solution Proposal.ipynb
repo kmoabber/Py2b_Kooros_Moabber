{
 "cells": [
  {
   "cell_type": "markdown",
   "id": "0b179dd1",
   "metadata": {},
   "source": [
    "Note: These are not here working solutions as the whole exercise is needed. These are just the answers to the questions in the final part of the exercise"
   ]
  },
  {
   "cell_type": "code",
   "execution_count": null,
   "id": "c09c30d8",
   "metadata": {},
   "outputs": [],
   "source": [
    "#Q1 Slice out puppy by slicing the numpy array from width 700-1550 pixels and height from 200 pixels to 1250, remeber to use copy!\n",
    "sliced_img = img[200:1250, 700:1550].copy()\n",
    "plt.imshow(sliced_img)"
   ]
  },
  {
   "cell_type": "code",
   "execution_count": null,
   "id": "95fcc943",
   "metadata": {},
   "outputs": [],
   "source": [
    "#Q2 Change all pixels with green value > 150 to pre white [255, 255, 255] on the sliced img\n",
    "#To access for example green you can say img[col][row][1] Order is [Red, Green, Blue]\n",
    "# Remeber you need to update width and height!\n",
    "\n",
    "height = sliced_img.shape[0]\n",
    "width = sliced_img.shape[1]\n",
    "for row in range(width):\n",
    "    for column in range(height):\n",
    "        if sliced_img[column][row][1] > 150:\n",
    "            sliced_img[column][row] = 255\n",
    "            \n",
    "            \n",
    "plt.imshow(sliced_img)"
   ]
  },
  {
   "cell_type": "code",
   "execution_count": null,
   "id": "a6ea0c1d",
   "metadata": {},
   "outputs": [],
   "source": [
    "#Q3 Resize the sliced img to a 128x128 img, Hint: Google cv2.resize\n",
    "resized_img = cv2.resize(sliced_img, (128,128))\n",
    "plt.imshow(resized_img)"
   ]
  },
  {
   "cell_type": "code",
   "execution_count": null,
   "id": "bca69bb7",
   "metadata": {},
   "outputs": [],
   "source": [
    "#Q4 Using the resized image, flatten it into a numpy array of shape (width*height*3, 1).\n",
    "# Hint: Use x.reshape(-1, 1). Why -1? Well that puts all the content of the array x in one array\n",
    "# The 1 then allows us to make it a column vector. Do Google what does -1 mean in reshape. It is important!\n",
    "flattened_img = sliced_img.reshape(-1, 1)\n",
    "\n",
    "print(flattened_img.shape)\n",
    "print(flattened_img)"
   ]
  }
 ],
 "metadata": {
  "kernelspec": {
   "display_name": "Python 3",
   "language": "python",
   "name": "python3"
  },
  "language_info": {
   "codemirror_mode": {
    "name": "ipython",
    "version": 3
   },
   "file_extension": ".py",
   "mimetype": "text/x-python",
   "name": "python",
   "nbconvert_exporter": "python",
   "pygments_lexer": "ipython3",
   "version": "3.8.8"
  }
 },
 "nbformat": 4,
 "nbformat_minor": 5
}
