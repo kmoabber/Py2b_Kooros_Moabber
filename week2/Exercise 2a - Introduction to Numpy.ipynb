{
 "cells": [
  {
   "cell_type": "markdown",
   "id": "ccac858f",
   "metadata": {},
   "source": [
    "<div style=\"background: black; padding: 10px 250px\"><img src=\"https://www.veldikompetens.se/wp-content/themes/consid/static/icons/VeldiKompetens_Logo_Web_Negative.svg\" title=\"Veldi kompetens\" /></div>"
   ]
  },
  {
   "cell_type": "markdown",
   "id": "b904d327",
   "metadata": {},
   "source": [
    "<hr><h1><center>Exercise 2a - Introduction to Numpy</center></h1>\n",
    "\n",
    "<h3>Instructions </h3>\n",
    "\n",
    "In this exercise you will learn how to create and use NumPy arrays and learn what advantages NumPy comes with when it comes to arrays. You might wonder what the differences between an array and list are. \n",
    "\n",
    "A list can consist of different datatypes while an array only consists of one datatype, and each nested element in the array must contain the same size. Lists consumes more memory than arrays and are often prefered for shorter sequence of data items. An array however, is more efficient on handling larger data sizes.\n",
    "\n",
    "A NumPy array cannot contain values of different types. Since all elements are of the same type, there is no need to check the type of each element in the array during runtime. This is one of the reasons why a NumPy array is faster than a normal array. "
   ]
  },
  {
   "cell_type": "markdown",
   "id": "237f599e",
   "metadata": {},
   "source": [
    "<h3> 1. Setup </h3>\n",
    "\n",
    "Make sure to import the NumPy package. This is done by running the cell below."
   ]
  },
  {
   "cell_type": "code",
   "execution_count": null,
   "id": "1c5aeba8",
   "metadata": {},
   "outputs": [],
   "source": [
    "import numpy as np"
   ]
  },
  {
   "cell_type": "markdown",
   "id": "6eb53dad",
   "metadata": {},
   "source": [
    "<h3> 2. Introduction to Numpy </h3>"
   ]
  },
  {
   "cell_type": "markdown",
   "id": "6af17e9e",
   "metadata": {},
   "source": [
    "<h4>2.1 The Basics </h4>\n",
    "\n",
    "Start by creating a NumPy array by using np.array."
   ]
  },
  {
   "cell_type": "code",
   "execution_count": null,
   "id": "17bb8eef",
   "metadata": {},
   "outputs": [],
   "source": [
    "numpy_array = np.array([1,2,3,4,5,6,7,8,9])\n",
    "print(numpy_array)"
   ]
  },
  {
   "cell_type": "markdown",
   "id": "79bb94d1",
   "metadata": {},
   "source": [
    "Usually, if you want to increment all elements in a list by one, you would probably be using something like the code in the cell below."
   ]
  },
  {
   "cell_type": "code",
   "execution_count": null,
   "id": "24fb29e9",
   "metadata": {},
   "outputs": [],
   "source": [
    "python_list = [1, 2, 3, 4, 5, 6, 7, 8, 9]\n",
    "    \n",
    "for i, _ in enumerate(python_list):\n",
    "    python_list[i] += 1\n",
    "\n",
    "\n",
    "print(python_list)"
   ]
  },
  {
   "cell_type": "markdown",
   "id": "e7e5ea68",
   "metadata": {},
   "source": [
    "With a NumPy array, all operators on arrays apply elementwise. Therefore it is possible to increment all the elements in an array with very simple code."
   ]
  },
  {
   "cell_type": "code",
   "execution_count": null,
   "id": "59b9ea0d",
   "metadata": {},
   "outputs": [],
   "source": [
    "print(numpy_array + 1) # Get all elements incremented by one.\n",
    "print(numpy_array *2) # Get all elements multiplied by two.\n",
    "print(numpy_array **2) # Get the square of all elements in the array."
   ]
  },
  {
   "cell_type": "markdown",
   "id": "73947e61",
   "metadata": {},
   "source": [
    "If you would print numpy_array after running above cells, you would see that its value has not changed despite the code in the cell above. "
   ]
  },
  {
   "cell_type": "code",
   "execution_count": null,
   "id": "2315dc44",
   "metadata": {},
   "outputs": [],
   "source": [
    "print(numpy_array)"
   ]
  },
  {
   "cell_type": "markdown",
   "id": "3c5c1502",
   "metadata": {},
   "source": [
    "To change the values in an array, make sure that you assign the array these new values as well. Numpy does this by Broadcasting (recommended optional reading)"
   ]
  },
  {
   "cell_type": "code",
   "execution_count": null,
   "id": "e75e84e0",
   "metadata": {},
   "outputs": [],
   "source": [
    "# Changing the values in an array\n",
    "numpy_array += 1 # Incrementing all elements by one.\n",
    "numpy_array *= 2 # Multiplying all elements by 2.\n",
    "numpy_array **= 2 # Squaring all elements in the array.\n",
    "\n",
    "print(numpy_array)"
   ]
  },
  {
   "cell_type": "markdown",
   "id": "a4255a34",
   "metadata": {},
   "source": [
    "<h4>2.2 Other operators </h4>"
   ]
  },
  {
   "cell_type": "code",
   "execution_count": null,
   "id": "d6677b6f",
   "metadata": {},
   "outputs": [],
   "source": [
    "# Create an array with 20 elements and with value 1. \n",
    "numpy_array = np.ones(20)\n",
    "print(numpy_array)"
   ]
  },
  {
   "cell_type": "code",
   "execution_count": null,
   "id": "0891f96b",
   "metadata": {},
   "outputs": [],
   "source": [
    "# Create an array with 20 elements and with value 0.\n",
    "numpy_array = np.zeros(20) \n",
    "print(numpy_array)"
   ]
  },
  {
   "cell_type": "code",
   "execution_count": null,
   "id": "83c2dc16",
   "metadata": {},
   "outputs": [],
   "source": [
    "# Create an array with 20 elements and with values 0-19.\n",
    "numpy_array = np.arange(20) \n",
    "print(numpy_array)"
   ]
  },
  {
   "cell_type": "code",
   "execution_count": null,
   "id": "12e85e11",
   "metadata": {},
   "outputs": [],
   "source": [
    "# Create an array with elements between 100-500 with spacing equal to 50.\n",
    "numpy_array = np.arange(100, 500, 50)\n",
    "print(numpy_array)"
   ]
  },
  {
   "cell_type": "code",
   "execution_count": null,
   "id": "76fa773c",
   "metadata": {},
   "outputs": [],
   "source": [
    "# Returns true/false for all values in the array. \n",
    "print(numpy_array > 300)"
   ]
  },
  {
   "cell_type": "code",
   "execution_count": null,
   "id": "a5ebac5a",
   "metadata": {},
   "outputs": [],
   "source": [
    "# Select all values from position 3 until position 10. This is called slicing.\n",
    "print(numpy_array[3:10])\n",
    "\n",
    "# When you use array[x:y], the x:th position will be included but the y:th position will be excluded. "
   ]
  },
  {
   "cell_type": "code",
   "execution_count": null,
   "id": "a3620ace",
   "metadata": {},
   "outputs": [],
   "source": [
    "# Select all values from position 5 to the end of the array.\n",
    "\n",
    "print(numpy_array[5:])\n",
    "\n",
    "# Or from the beginning of the array to position 5\n",
    "\n",
    "print(numpy_array[:5])"
   ]
  },
  {
   "cell_type": "code",
   "execution_count": null,
   "id": "8082f358",
   "metadata": {},
   "outputs": [],
   "source": [
    "# You can use operations using arrays on arrays.\n",
    "a = np.array([10, 20, 30, 40])\n",
    "b = np.array([1, 2, 3, 4])\n",
    "print(\"a + b: \", a+b)\n",
    "print(\"a - b: \", a-b)\n",
    "print(\"a * b: \", a*b)"
   ]
  },
  {
   "cell_type": "markdown",
   "id": "35b24fda",
   "metadata": {},
   "source": [
    "The above code only works if the two arrays have either the same amount of elements in them or if NumPy can successfully broadcast the smaller array to match the other. However, broadcasting only works if the arrays have the exact same number of elements or if the shorter array contains exactly one element. "
   ]
  },
  {
   "cell_type": "code",
   "execution_count": null,
   "id": "474655d0",
   "metadata": {},
   "outputs": [],
   "source": [
    "# For example, in the code below, both array a + array b and array a + array c will print the same output. \n",
    "# This is because NumPy matches the shape of array a by creating a new array containing repeating values \n",
    "# of the value in array c which in this case makes it identical to array b.\n",
    "\n",
    "a = np.array([10, 20, 30, 40])\n",
    "b = np.array([10, 10, 10, 10])\n",
    "c = np.array(10)\n",
    "\n",
    "\n",
    "print(a + b)\n",
    "print(a + c)"
   ]
  },
  {
   "cell_type": "code",
   "execution_count": null,
   "id": "febc0276",
   "metadata": {},
   "outputs": [],
   "source": [
    "# Sort an array by ascending.\n",
    "unsorted_array = np.array([3, 8, 4, 7, 3, 7, 2, 2, 1 ,7, 9, 5, 3, 10, 8, 3, 6])\n",
    "\n",
    "print(np.sort(unsorted_array))"
   ]
  },
  {
   "cell_type": "markdown",
   "id": "a80a622b",
   "metadata": {},
   "source": [
    "<h4> 2.3 The shape and dimension of an array </h4>"
   ]
  },
  {
   "cell_type": "markdown",
   "id": "d45e59c2",
   "metadata": {},
   "source": [
    "A NumPy array can contain arrays with multiple dimensions. The arrays we have used so far is one dimensional arrays. You can also create a two dimensional array:"
   ]
  },
  {
   "cell_type": "code",
   "execution_count": null,
   "id": "3ab2fe06",
   "metadata": {},
   "outputs": [],
   "source": [
    "two_d_numpy_array = np.array([[1, 2, 3], [4, 5, 6]])\n",
    "print(two_d_numpy_array)"
   ]
  },
  {
   "cell_type": "markdown",
   "id": "214e8ab3",
   "metadata": {},
   "source": [
    "Or  a three dimensional array:"
   ]
  },
  {
   "cell_type": "code",
   "execution_count": null,
   "id": "915cd24e",
   "metadata": {},
   "outputs": [],
   "source": [
    "three_d_numpy_array = np.array([[[1,2,3], [4, 5, 6]],[[7, 8, 9], [10, 11, 12]]])\n",
    "print(three_d_numpy_array)"
   ]
  },
  {
   "cell_type": "markdown",
   "id": "896d1221",
   "metadata": {},
   "source": [
    "Of course, you can have practically as many dimensions as you like. To check how many dimensions an array has, use .ndim."
   ]
  },
  {
   "cell_type": "code",
   "execution_count": null,
   "id": "5251c8ae",
   "metadata": {},
   "outputs": [],
   "source": [
    "print(three_d_numpy_array.ndim)"
   ]
  },
  {
   "cell_type": "markdown",
   "id": "62afc494",
   "metadata": {},
   "source": [
    "To get one specific element´s value in an array you need to specify the position of that element. To get the first element in a one dimensional array run the cell below."
   ]
  },
  {
   "cell_type": "code",
   "execution_count": null,
   "id": "f6c8013e",
   "metadata": {},
   "outputs": [],
   "source": [
    "print(numpy_array[0])"
   ]
  },
  {
   "cell_type": "markdown",
   "id": "0467d2c1",
   "metadata": {},
   "source": [
    "In a two dimensional array each element has two values for its position. To get the second value in the second array in a two dimensional array, run the code below."
   ]
  },
  {
   "cell_type": "code",
   "execution_count": null,
   "id": "a6b37e1d",
   "metadata": {},
   "outputs": [],
   "source": [
    "print(two_d_numpy_array[1, 1])"
   ]
  },
  {
   "cell_type": "markdown",
   "id": "488f0a8a",
   "metadata": {},
   "source": [
    "And to get an individual element in a three dimensional array, you would need to use three values for the position."
   ]
  },
  {
   "cell_type": "code",
   "execution_count": null,
   "id": "4169351e",
   "metadata": {},
   "outputs": [],
   "source": [
    "print(three_d_numpy_array[1,0,2])"
   ]
  },
  {
   "cell_type": "markdown",
   "id": "b322ed1e",
   "metadata": {},
   "source": [
    "This is how the indexing of an element works with the three dimensional array above: \n",
    "\n",
    "three_d_numpy_array looks like this: <pre>[[[1,2,3], [4, 5, 6]], [[7, 8, 9], [10, 11, 12]]]</pre>\n",
    "\n",
    "In the cell above we selected the index [1, 0, 2] and the output was 9.\n",
    "\n",
    "The first number in the index [1, 0, 2] represents the first dimension. \n",
    "three_d_numpy_array contains two arrays:\n",
    "<pre>[[1, 2, 3], [4, 5, 6]]</pre> and <pre>[[7, 8, 9], [10, 11, 12]]</pre>\n",
    "\n",
    "We chose 1 as the first number in the index and therefore we have selected the second array which is \n",
    "<pre>[[7, 8, 9], [10, 11, 12]]</pre>\n",
    "\n",
    "The second number in the index [1, 0, 2] represents the second dimension. It contains two arrays:\n",
    "<pre>[7, 8, 9]</pre> and <pre>[10, 11, 12]</pre>\n",
    "\n",
    "We selected 0 as the second number and the first array was chosen which is\n",
    "<pre>[7, 8, 9]</pre>\n",
    "\n",
    "Finally, the last number in [1, 0, 2] represents the third dimension and contains three values:\n",
    "7 8 9 \n",
    "\n",
    "We chose the number 2 which is the third value 9."
   ]
  },
  {
   "cell_type": "markdown",
   "id": "b0dacf42",
   "metadata": {},
   "source": [
    "<h4> 2.4 Shape and reshape </h4>\n",
    "To see how many elements an array has in each of its dimensions, use .shape."
   ]
  },
  {
   "cell_type": "code",
   "execution_count": null,
   "id": "b6c66820",
   "metadata": {},
   "outputs": [],
   "source": [
    "shape_array = np.array([[1, 2, 3, 4, 5], [11, 12, 13, 14, 15], [21, 22, 23, 24, 25]])\n",
    "print(shape_array)\n",
    "print(shape_array.shape)"
   ]
  },
  {
   "cell_type": "markdown",
   "id": "587b95b9",
   "metadata": {},
   "source": [
    "In the above cell we get the output (3, 5) which means that the array has 3 elements in the first dimension<pre>[1, 2, 3, 4, 5], [11, 12, 13, 14, 15] and [21, 22, 23, 24, 25]</pre> and 5 elements in the second dimension, because each of those arrays contains 5 elements."
   ]
  },
  {
   "cell_type": "markdown",
   "id": "cdc9caac",
   "metadata": {},
   "source": [
    "If we would want to reshape this array to have 5 elements in its first dimension and 3 in its second, we can use .reshape"
   ]
  },
  {
   "cell_type": "code",
   "execution_count": null,
   "id": "deb886b8",
   "metadata": {},
   "outputs": [],
   "source": [
    "shape_array = shape_array.reshape(5, 3)\n",
    "print(shape_array)"
   ]
  },
  {
   "cell_type": "markdown",
   "id": "e61fca02",
   "metadata": {},
   "source": [
    "Or one element in the first dimension and 15 in the second;"
   ]
  },
  {
   "cell_type": "code",
   "execution_count": null,
   "id": "6f6df9cf",
   "metadata": {},
   "outputs": [],
   "source": [
    "shape_array = shape_array.reshape(1, 15)\n",
    "print(shape_array)"
   ]
  },
  {
   "cell_type": "markdown",
   "id": "01bc440e",
   "metadata": {},
   "source": [
    "We cannot shape arrays however we would like. All arrays needs to have the same number of elements, so reshape(7,2) for example would not work on this array since it would not fit all 15 elements."
   ]
  },
  {
   "cell_type": "code",
   "execution_count": null,
   "id": "50af3a73",
   "metadata": {},
   "outputs": [],
   "source": [
    "# You can also use np.transpose to reverse the order of an arrays shape.\n",
    "\n",
    "transpose_array = np.ones((2, 3, 4))\n",
    "print(\"Original shape : \", transpose_array.shape)\n",
    "print(\"\\n\", transpose_array)\n",
    "\n",
    "transpose_array = np.transpose(transpose_array)\n",
    "print(\"\\nTransposed shape : \", transpose_array.shape)\n",
    "print(\"\\n\", transpose_array)"
   ]
  },
  {
   "cell_type": "markdown",
   "id": "304e87ed",
   "metadata": {},
   "source": [
    "##### Axis"
   ]
  },
  {
   "cell_type": "markdown",
   "id": "56649fd9",
   "metadata": {},
   "source": [
    "<pre>[[10 15 20]\n",
    " [25 30 35]\n",
    " [40 45 50]\n",
    " [55 60 65]\n",
    " [70 75 80]]</pre>\n",
    "\n",
    "Imagine that the above array consists of rows and columns where each array is a row and the first value in each array is the first column, the second value in each array is the second column and so on. To visualize, the rows are \n",
    "<pre>[ 10,  15,  20], [ 25,  30, 35], [40, 45, 50], [55, 60, 65], [70, 75, 80]</pre>\n",
    "and the columns are\n",
    "<pre> [10, 25, 40, 55, 70], [15, 30, 45, 60, 75], [20, 35, 50, 65, 80]</pre>"
   ]
  },
  {
   "cell_type": "markdown",
   "id": "1e184b88",
   "metadata": {},
   "source": [
    "To understand the axis in NumPy, just imagine that axis = 0 is the columns and that axis = 1 is the rows. Axis in NumPy can be very useful:"
   ]
  },
  {
   "cell_type": "code",
   "execution_count": null,
   "id": "ffd6e8df",
   "metadata": {},
   "outputs": [],
   "source": [
    "axis_array = np.array([[ 75,  25,  55], [ 25,  30, 35], [40, 45, 50], [55, 5, 65], [70, 75, 10]])\n",
    "print(axis_array.min(axis = 0)) #Get the minimum value of each column.\n",
    "print(axis_array.sum(axis = 1)) #Get the sum of each row."
   ]
  },
  {
   "cell_type": "markdown",
   "id": "3fd4110d",
   "metadata": {},
   "source": [
    "Axis works a bit different with arrays that are not two dimensional. But for now you only need to know how axis works with two dimensional arrays."
   ]
  },
  {
   "cell_type": "markdown",
   "id": "90cd53d9",
   "metadata": {},
   "source": [
    "<h4> 2.5 Slice, stack and insert </h4>"
   ]
  },
  {
   "cell_type": "markdown",
   "id": "8d1d7702",
   "metadata": {},
   "source": [
    "##### Slicing"
   ]
  },
  {
   "cell_type": "code",
   "execution_count": null,
   "id": "8185320b",
   "metadata": {},
   "outputs": [],
   "source": [
    "slice_array = np.array([[1, 2, 3, 4, 5, 6], [7, 8, 9, 10, 11, 12], [13, 14, 15, 16, 17, 18]])"
   ]
  },
  {
   "cell_type": "code",
   "execution_count": null,
   "id": "0cdf7c91",
   "metadata": {},
   "outputs": [],
   "source": [
    "# From the first element, get all elements starting from the third position.\n",
    "\n",
    "print(slice_array[0,3:])"
   ]
  },
  {
   "cell_type": "code",
   "execution_count": null,
   "id": "42707630",
   "metadata": {},
   "outputs": [],
   "source": [
    "# Get the third position in each element.\n",
    "\n",
    "print(slice_array[0:,3])"
   ]
  },
  {
   "cell_type": "code",
   "execution_count": null,
   "id": "1813ac46",
   "metadata": {},
   "outputs": [],
   "source": [
    "# Get the three first elements from the first two elements.\n",
    "\n",
    "print(slice_array[0:2,0:3])"
   ]
  },
  {
   "cell_type": "code",
   "execution_count": null,
   "id": "60edcef1",
   "metadata": {},
   "outputs": [],
   "source": [
    "# Replace the first three elements in the third element with 100, 200 and 300\n",
    "replace = np.array([100, 200, 300])\n",
    "\n",
    "slice_array[2,:3] = replace\n",
    "print(slice_array)"
   ]
  },
  {
   "cell_type": "code",
   "execution_count": null,
   "id": "3a91372d",
   "metadata": {},
   "outputs": [],
   "source": [
    "# Replace the two middle elements in the second and third element with zeros.\n",
    "\n",
    "replace = np.zeros(4).reshape(2, 2)\n",
    "\n",
    "slice_array[1:3,2:4] = replace\n",
    "print(slice_array)"
   ]
  },
  {
   "cell_type": "markdown",
   "id": "f077b1c8",
   "metadata": {},
   "source": [
    "##### Stacking"
   ]
  },
  {
   "cell_type": "markdown",
   "id": "429044cb",
   "metadata": {},
   "source": [
    "Stacking allows you to stack arrays into one array. Vertical stacking stacks the arrays without changing the number of columns. Horizontal stacking stacks the arrays without changing the number of rows. "
   ]
  },
  {
   "cell_type": "code",
   "execution_count": null,
   "id": "2a2744e2",
   "metadata": {},
   "outputs": [],
   "source": [
    "a = np.array([[1, 2], [3, 4]])\n",
    "b = np.array([[5, 6], [6, 7]])\n",
    "\n",
    "print(\"vertical stacking : \\n\", np.vstack((a, b))) # Use .vstack for vertical stacking\n",
    "print(\"\\nhorizontal stacking : \\n\", np.hstack((a, b))) # Use .hstack for horizontal stacking"
   ]
  },
  {
   "cell_type": "markdown",
   "id": "c9fda59c",
   "metadata": {},
   "source": [
    "##### Insert"
   ]
  },
  {
   "cell_type": "code",
   "execution_count": null,
   "id": "6b60f974",
   "metadata": {},
   "outputs": [],
   "source": [
    "# Use insert if you want to insert a element into a specific place.\n",
    "\n",
    "insert_array = np.array([[1, 2], [3, 4], [7, 8]])\n",
    "missing_element = np.array([5, 6])\n",
    "\n",
    "print(np.insert(insert_array, 2, missing_element, axis = 0)) #insert missing_element into insert_array at index 2 and axis = 0."
   ]
  },
  {
   "cell_type": "code",
   "execution_count": null,
   "id": "52bb77fd",
   "metadata": {},
   "outputs": [],
   "source": [
    "# Inserting horizontally.\n",
    "\n",
    "insert_array = np.array([[1, 2, 4], [5, 6, 8], [9, 10, 12]])\n",
    "missing_element = np.array([3, 7, 11])\n",
    "\n",
    "print(np.insert(insert_array, 2, missing_element, axis = 1)) #insert missing_element into insert_array at index 2 and axis = 1."
   ]
  },
  {
   "cell_type": "markdown",
   "id": "774aa6e2",
   "metadata": {},
   "source": [
    "<h4>2.6 Question Time! </h4>"
   ]
  },
  {
   "cell_type": "code",
   "execution_count": null,
   "id": "8b7b9aa0",
   "metadata": {},
   "outputs": [],
   "source": [
    "#Q1 Print the middle three values of the following array\n",
    "arr = [1, 2, 3, 4, 5 ,6, 7 ,8, 9]"
   ]
  },
  {
   "cell_type": "code",
   "execution_count": null,
   "id": "6587b0da",
   "metadata": {},
   "outputs": [],
   "source": [
    "#Q1 Your answer here:\n",
    "\n"
   ]
  },
  {
   "cell_type": "markdown",
   "id": "4da1469e",
   "metadata": {},
   "source": [
    "<p>Q1 Expected output: </p>\n",
    "\n",
    "<pre>[4, 5, 6]\n",
    "</pre>"
   ]
  },
  {
   "cell_type": "code",
   "execution_count": null,
   "id": "7c4eef99",
   "metadata": {},
   "outputs": [],
   "source": [
    "#Q2 What is the sum of the third row in the following array?\n",
    "sum_array = np.array([[10, 15, 20, 25, 30], [40, 45, 50, 55, 60], [70, 75, 80, 85, 90], [100, 105, 110, 115, 120]])"
   ]
  },
  {
   "cell_type": "code",
   "execution_count": null,
   "id": "911358a5",
   "metadata": {},
   "outputs": [],
   "source": [
    "#Q2 Your answer here:\n",
    "\n"
   ]
  },
  {
   "cell_type": "markdown",
   "id": "aad2e52c",
   "metadata": {},
   "source": [
    "<p>Q2 Expected output: </p>\n",
    "\n",
    "<pre>400\n",
    "</pre>"
   ]
  },
  {
   "cell_type": "markdown",
   "id": "793afc2a",
   "metadata": {},
   "source": [
    "Q3 Recreate this array (without just manually declaring this exact array): \n",
    "\n",
    "<pre>[[1 1 1 1 1]\n",
    " [1 0 0 0 1]\n",
    " [1 0 9 0 1]\n",
    " [1 0 0 0 1]\n",
    " [1 1 1 1 1]]</pre>"
   ]
  },
  {
   "cell_type": "code",
   "execution_count": null,
   "id": "e6420ef4",
   "metadata": {},
   "outputs": [],
   "source": [
    "#Q3 Your answer here: \n",
    "\n"
   ]
  },
  {
   "cell_type": "markdown",
   "id": "1b49dad4",
   "metadata": {},
   "source": [
    "<p>Q3 Expected output: </p>\n",
    "\n",
    "<pre>[[1 1 1 1 1]\n",
    " [1 0 0 0 1]\n",
    " [1 0 9 0 1]\n",
    " [1 0 0 0 1]\n",
    " [1 1 1 1 1]]</pre>"
   ]
  },
  {
   "cell_type": "code",
   "execution_count": null,
   "id": "db207a26",
   "metadata": {},
   "outputs": [],
   "source": [
    "#Q4 Insert the missing row in this sudoku. Bonus points if you insert it in the correct place but not required. \n",
    "\n",
    "unfinished_sudoku = np.array([[3, 1, 6, 5, 7, 8, 4, 9, 2], \n",
    "[5, 2, 9, 1, 3, 4, 7, 6, 8], \n",
    "[4, 8, 7, 6, 2, 9, 5, 3, 1], \n",
    "[2, 6, 3, 4, 1, 5, 9, 8, 7], \n",
    "[8, 5, 1, 7, 9, 2, 6, 4, 3], \n",
    "[1, 3, 8, 9, 4, 7, 2, 5, 6], \n",
    "[6, 9, 2, 3, 5, 1, 8, 7, 4],\n",
    "[7, 4, 5, 2, 8, 6, 3, 1, 9]])\n",
    "\n",
    "missing_row = [9, 7, 4, 8, 6, 3, 1, 2, 5]"
   ]
  },
  {
   "cell_type": "code",
   "execution_count": null,
   "id": "e8785a46",
   "metadata": {},
   "outputs": [],
   "source": [
    "#Q4 Your answer here: \n",
    "\n"
   ]
  },
  {
   "cell_type": "markdown",
   "id": "e4223778",
   "metadata": {},
   "source": [
    "<p>Q4 Expected output: </p>\n",
    "\n",
    "<pre>[[3 1 6 5 7 8 4 9 2]\n",
    " [5 2 9 1 3 4 7 6 8]\n",
    " [4 8 7 6 2 9 5 3 1]\n",
    " [2 6 3 4 1 5 9 8 7]\n",
    " [9 7 4 8 6 3 1 2 5]\n",
    " [8 5 1 7 9 2 6 4 3]\n",
    " [1 3 8 9 4 7 2 5 6]\n",
    " [6 9 2 3 5 1 8 7 4]\n",
    " [7 4 5 2 8 6 3 1 9]]\n",
    "</pre>"
   ]
  },
  {
   "cell_type": "code",
   "execution_count": null,
   "id": "5db75ec4",
   "metadata": {},
   "outputs": [],
   "source": [
    "#Q5 Sort this array by ascending\n",
    "sort_arr = np.array([1, 6, 34, 7, 2, 99, 46, 84, 23])"
   ]
  },
  {
   "cell_type": "code",
   "execution_count": null,
   "id": "a9a30553",
   "metadata": {},
   "outputs": [],
   "source": [
    "#Q5 Your answer here:\n",
    "\n"
   ]
  },
  {
   "cell_type": "markdown",
   "id": "3e01fb0c",
   "metadata": {},
   "source": [
    "<p>Q5 Expected output: </p>\n",
    "\n",
    "<pre>[ 1  2  6  7 23 34 46 84 99]\n",
    "</pre>"
   ]
  },
  {
   "cell_type": "code",
   "execution_count": null,
   "id": "e5aab80c",
   "metadata": {},
   "outputs": [],
   "source": [
    "#Q6 How many rows and how many columns does this array have?\n",
    "\n",
    "array = np.array([[1., 1., 1., 1., 1., 1., 1., 1., 1., 1., 1., 1., 1., 1., 1., 1.,\n",
    "        1., 1., 1., 1., 1., 1., 1., 1., 1., 1., 1., 1., 1., 1., 1., 1.,\n",
    "        1., 1., 1., 1., 1., 1., 1., 1., 1., 1., 1., 1., 1., 1., 1., 1.,\n",
    "        1., 1.],\n",
    "       [1., 1., 1., 1., 1., 1., 1., 1., 1., 1., 1., 1., 1., 1., 1., 1.,\n",
    "        1., 1., 1., 1., 1., 1., 1., 1., 1., 1., 1., 1., 1., 1., 1., 1.,\n",
    "        1., 1., 1., 1., 1., 1., 1., 1., 1., 1., 1., 1., 1., 1., 1., 1.,\n",
    "        1., 1.],\n",
    "       [1., 1., 1., 1., 1., 1., 1., 1., 1., 1., 1., 1., 1., 1., 1., 1.,\n",
    "        1., 1., 1., 1., 1., 1., 1., 1., 1., 1., 1., 1., 1., 1., 1., 1.,\n",
    "        1., 1., 1., 1., 1., 1., 1., 1., 1., 1., 1., 1., 1., 1., 1., 1.,\n",
    "        1., 1.],\n",
    "       [1., 1., 1., 1., 1., 1., 1., 1., 1., 1., 1., 1., 1., 1., 1., 1.,\n",
    "        1., 1., 1., 1., 1., 1., 1., 1., 1., 1., 1., 1., 1., 1., 1., 1.,\n",
    "        1., 1., 1., 1., 1., 1., 1., 1., 1., 1., 1., 1., 1., 1., 1., 1.,\n",
    "        1., 1.]])"
   ]
  },
  {
   "cell_type": "code",
   "execution_count": null,
   "id": "b1e2cc04",
   "metadata": {},
   "outputs": [],
   "source": [
    "#Q6 Your answer here:\n",
    "\n"
   ]
  },
  {
   "cell_type": "markdown",
   "id": "5f30a889",
   "metadata": {},
   "source": [
    "<p>Q6 Expected output: </p>\n",
    "\n",
    "<pre>(4, 50)\n",
    "</pre>"
   ]
  },
  {
   "cell_type": "code",
   "execution_count": null,
   "id": "74ad27ee",
   "metadata": {},
   "outputs": [],
   "source": [
    "#Q7 Change this array so that each number is increased by one from the previous (1, 2, 3, 4 .... 21, 22, 23, 24)\n",
    "\n",
    "increase_array = np.array([[1, 1, 1, 1], [5, 5, 5, 5], [9, 9, 9, 9], [13, 13, 13, 13], [17, 17, 17, 17], [21, 21, 21, 21]])"
   ]
  },
  {
   "cell_type": "code",
   "execution_count": null,
   "id": "b4be17a4",
   "metadata": {},
   "outputs": [],
   "source": [
    "#Q7 Your answer here:\n",
    "\n"
   ]
  },
  {
   "cell_type": "markdown",
   "id": "0d342a45",
   "metadata": {},
   "source": [
    "<p>Q7 Expected output: </p>\n",
    "\n",
    "<pre>[[ 1  2  3  4]\n",
    " [ 5  6  7  8]\n",
    " [ 9 10 11 12]\n",
    " [13 14 15 16]\n",
    " [17 18 19 20]\n",
    " [21 22 23 24]]\n",
    "</pre>"
   ]
  },
  {
   "cell_type": "code",
   "execution_count": null,
   "id": "03ae705c",
   "metadata": {},
   "outputs": [],
   "source": [
    "#Q8 Create an array with integers 1-20 and reshape it so it has 4 rows and 5 columns."
   ]
  },
  {
   "cell_type": "code",
   "execution_count": null,
   "id": "c479a7d9",
   "metadata": {},
   "outputs": [],
   "source": [
    "#Q8 Your answer here:\n",
    "\n"
   ]
  },
  {
   "cell_type": "markdown",
   "id": "d45e47dc",
   "metadata": {},
   "source": [
    "<p>Q8 Expected output: </p>\n",
    "\n",
    "<pre>[[ 1  2  3  4  5]\n",
    " [ 6  7  8  9 10]\n",
    " [11 12 13 14 15]\n",
    " [16 17 18 19 20]]\n",
    "</pre>"
   ]
  },
  {
   "cell_type": "code",
   "execution_count": null,
   "id": "3dc7b766",
   "metadata": {},
   "outputs": [],
   "source": [
    "#Q9 Create the expected output using the arrays in this cell and by using stacking. \n",
    "\n",
    "a = [[1, 2]]\n",
    "b = [[3, 4]]\n",
    "c = [[5, 6]]\n",
    "d = [[7, 8]]"
   ]
  },
  {
   "cell_type": "code",
   "execution_count": null,
   "id": "74482033",
   "metadata": {},
   "outputs": [],
   "source": [
    "#Q9 You answer here:\n",
    "\n"
   ]
  },
  {
   "cell_type": "markdown",
   "id": "335c9750",
   "metadata": {},
   "source": [
    "<p>Q9 Expected output: </p>\n",
    "\n",
    "<pre>[[1 2 3 4]\n",
    " [5 6 7 8]]\n",
    "</pre>"
   ]
  },
  {
   "cell_type": "code",
   "execution_count": null,
   "id": "ad48cdcf",
   "metadata": {},
   "outputs": [],
   "source": [
    "#Q10 How many dimensions has the following array? \n",
    "\n",
    "dimension_array = np.arange(6400).reshape(4, 4, 5, 8, 1, 10)"
   ]
  },
  {
   "cell_type": "code",
   "execution_count": null,
   "id": "821eb1f1",
   "metadata": {},
   "outputs": [],
   "source": [
    "#Q10 Your answer here: \n"
   ]
  },
  {
   "cell_type": "markdown",
   "id": "93404d5c",
   "metadata": {},
   "source": [
    "<p>Q10 Expected output: </p>\n",
    "\n",
    "<pre>6\n",
    "</pre>"
   ]
  }
 ],
 "metadata": {
  "kernelspec": {
   "display_name": "Python 3",
   "language": "python",
   "name": "python3"
  },
  "language_info": {
   "codemirror_mode": {
    "name": "ipython",
    "version": 3
   },
   "file_extension": ".py",
   "mimetype": "text/x-python",
   "name": "python",
   "nbconvert_exporter": "python",
   "pygments_lexer": "ipython3",
   "version": "3.8.8"
  }
 },
 "nbformat": 4,
 "nbformat_minor": 5
}
